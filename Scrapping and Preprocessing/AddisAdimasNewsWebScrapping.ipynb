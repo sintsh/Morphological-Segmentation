{
 "cells": [
  {
   "attachments": {},
   "cell_type": "markdown",
   "metadata": {},
   "source": [
    "### By Sintayehu Zekarias"
   ]
  },
  {
   "cell_type": "markdown",
   "metadata": {},
   "source": [
    "# Import important library"
   ]
  },
  {
   "cell_type": "code",
   "execution_count": 4,
   "metadata": {},
   "outputs": [],
   "source": [
    "#!/usr/bin/env python\n",
    "# -*- coding: utf-8 -*--\n",
    "import requests\n",
    "from bs4 import BeautifulSoup\n",
    "import os \n",
    "import matplotlib.pyplot as plt"
   ]
  },
  {
   "cell_type": "markdown",
   "metadata": {},
   "source": [
    "## Get the category of the Addis Admas news page"
   ]
  },
  {
   "cell_type": "code",
   "execution_count": 3,
   "metadata": {},
   "outputs": [
    {
     "name": "stdout",
     "output_type": "stream",
     "text": [
      "Category 0 : መነሻ ገፅ\n",
      "Category 1 : ዜና\n",
      "Category 2 : ርዕስ አንቀፅ\n",
      "Category 3 : ባህል\n",
      "Category 4 : ህብረተሰብ\n",
      "Category 5 : ጥበብ\n",
      "Category 6 : ኪነ-ጥበባዊ ዜና\n",
      "Category 7 : ልብ ወለድ\n",
      "Category 8 : የግጥም ጥግ\n",
      "Category 9 : አግራሞት\n",
      "Category 10 : ማራኪ አንቀፅ\n",
      "Category 11 : ነፃ አስተያየት\n",
      "Category 12 : የሰሞኑ አጀንዳ\n",
      "Category 13 : ፖለቲካ በፈገግታ\n",
      "Category 14 : ከአለም ዙሪያ\n",
      "Category 15 : ጤና\n",
      "Category 16 : ንግድና ኢኮኖሚ\n"
     ]
    }
   ],
   "source": [
    "url = \"https://addisadmassnews.com/index.php?option=com_content&view=featured&Itemid=101\"\n",
    "data = requests.get(url)\n",
    "html = BeautifulSoup(data.text, 'html.parser')\n",
    "mainMenu = html.select('ul.menu')\n",
    "menus=mainMenu[0].find_all('a')\n",
    "categories=[]\n",
    "\n",
    "for menu in menus:\n",
    "    # detail_link =menu.find_all('a')\n",
    "    url_category=menu['href']\n",
    "    categories.append ({\"url_category\":url_category, \"Category\":  menu.get_text()})\n",
    "    # print(detail_link)\n",
    "\n",
    "    # print(\"https://addisadmassnews.com\"+detail_link[0]['href'])\n",
    "\n",
    "counter =0\n",
    "for category in categories:\n",
    "    baseurl= category['url_category']\n",
    "    title= category['Category']\n",
    "\n",
    "    print(\"Category\" , counter,\":\", title)\n",
    "    counter = counter+1"
   ]
  },
  {
   "cell_type": "markdown",
   "metadata": {},
   "source": [
    "## Scrap the content of each category \n",
    "### 1. Open each categroy\n",
    "### 2. Create folder based on each category\n",
    "### 3. Find the number of pages in each category\n",
    "### 4. Based on number of pages scrap the contents of each data \n",
    "### 5. Save it on setp 2"
   ]
  },
  {
   "cell_type": "code",
   "execution_count": null,
   "metadata": {},
   "outputs": [],
   "source": [
    "'''\n",
    "Url to fetch consists of 2 parts:\n",
    "category,baseurl, pages\n",
    "'''\n",
    "\n",
    "title_pages={}\n",
    "category_label=\"\"\n",
    "category_count = 1\n",
    "# Parent Directories \n",
    "parent_dir = os.getcwd() + \"\\\\Category\"\n",
    "\n",
    "for category in categories:\n",
    "    baseurl= category['url_category']\n",
    "    title= category['Category']\n",
    "   \n",
    "    # print(baseurl, \":\", title)\n",
    "    if title != \"መነሻ ገፅ\" :\n",
    "    \n",
    "        baseurl = \"https://addisadmassnews.com\"+ baseurl + \"&limitstart=\" \n",
    "        \n",
    "        \n",
    "\n",
    "        # Leaf directory \n",
    "        directory = title\n",
    "            \n",
    "        \n",
    "        # Path \n",
    "        path = os.path.join(parent_dir, directory) \n",
    "            \n",
    "        # Create the directory \n",
    "        isExist = os.path.exists(path)\n",
    "        if not isExist:\n",
    "            os.makedirs(path) \n",
    "\n",
    "\n",
    "        page = 0\n",
    "       \n",
    "\n",
    "        my_data = []\n",
    "\n",
    "\n",
    "        # get page numbers\n",
    "        data = requests.get(baseurl+\"0\")\n",
    "        html = BeautifulSoup(data.text, 'html.parser')\n",
    "        pageLinks = html.select('div.pagination')\n",
    "        pangeLink=pageLinks[0].find_all('a')\n",
    "\n",
    "        total_page = int(pangeLink[-1]['href'].split('limitstart=')[1])\n",
    "        # print(title,\":\", total_page)\n",
    "        # title_pages[title]=total_page\n",
    "        title_pages[str(category_count)]=total_page\n",
    "        # category_label[\"Category\" + str(category_count)]=title\n",
    "        category_label = category_label + \"Category \" + str(category_count) + \":\" + title + \" , \"\n",
    "        category_count = category_count + 1\n",
    "\n",
    "        # # scrap all pages\n",
    "        while page < total_page:\n",
    "            listingurl = baseurl + str(page) \n",
    "            data = requests.get(listingurl)\n",
    "            # print(listingurl)\n",
    "\n",
    "            html = BeautifulSoup(data.text, 'html.parser')\n",
    "            articles = html.select('div.catItemHeader')\n",
    "\n",
    "            for article in articles:\n",
    "                \n",
    "                # get title, author and creatd date\n",
    "                title = article.select('.catItemTitle')[0].get_text()\n",
    "                author = article.select('.catItemAuthor')[0].get_text()\n",
    "                created_date = article.select('.catItemDateCreated')[0].get_text()\n",
    "\n",
    "                # get the detail link to get the whole content of the tile\n",
    "                detail_link =article.select('.catItemTitle >a')\n",
    "                # print(x[0]['href'])\n",
    "\n",
    "               \n",
    "                 #  get the whole content of the detail_link\n",
    "                inner_data = requests.get(\"https://addisadmassnews.com\"+detail_link[0]['href'])\n",
    "\n",
    "                inner_content_html = BeautifulSoup(inner_data.content, 'html.parser')\n",
    "                fullText = inner_content_html.select('div.itemFullText')[0].get_text()\n",
    "\n",
    "            \n",
    "            \n",
    "\n",
    "                my_data.append({\"created_date\": created_date, \" author\": author, \" title\": title, \"full_text\": fullText})\n",
    "\n",
    "                author = author.split(\"Written by\")[1]\n",
    "                author = \" \".join(author.split())\n",
    "                # result =  \"በ: \" + author + \"\\n\"+ title + \"\\n\"+ fullText\n",
    "                result =  title + \"\\n\"+ fullText\n",
    "            \n",
    "                # file name cleaning\n",
    "                created_date=\" \".join(created_date.split())\n",
    "                created_date = created_date.replace(\",\",\"\")\n",
    "                created_date = created_date.replace(\":\",\"\")\n",
    "                created_date = created_date \n",
    "\n",
    "\n",
    "                #Save the Data\n",
    "                completeName = os.path.join(path, created_date+\".txt\") \n",
    "                file = open(completeName, \"w\" , encoding='utf-8') \n",
    "                # print(result)\n",
    "                file.write(result)\n",
    "\n",
    "                file.flush()\n",
    "                file.close\n",
    "                \n",
    "\n",
    "            \n",
    "\n",
    "            page += 10\n",
    "\n",
    "        # pprint(my_data)\n",
    "\n",
    "       "
   ]
  },
  {
   "cell_type": "markdown",
   "metadata": {},
   "source": [
    "# Category Visualization"
   ]
  },
  {
   "cell_type": "code",
   "execution_count": 6,
   "metadata": {},
   "outputs": [],
   "source": [
    "\n",
    "\n",
    "#Initialization\n",
    "path = 'Category'\n",
    "categoryList = os.listdir(path)\n",
    "title_pages = {}\n",
    "\n",
    "\n",
    "\n",
    "tokenized_word_list =[]\n",
    "# Parent Directories \n",
    "parent_dir = os.getcwd()  + \"\\\\\" + \"Category\"\n",
    "category_count =1\n",
    "category_label = \"\"\n",
    "\n",
    "for category in categoryList:\n",
    "\n",
    "    #Initialization\n",
    "    path = 'Category\\\\' + category \n",
    "    category_label = category_label + \"Category \" + str(category_count) + \":\" + category + \" , \"\n",
    "    myFileList = os.listdir(path)\n",
    "    title_pages[str(category_count)]=len(myFileList)\n",
    "    category_count = category_count + 1\n",
    "\n",
    "   \n"
   ]
  },
  {
   "cell_type": "code",
   "execution_count": 7,
   "metadata": {},
   "outputs": [
    {
     "data": {
      "image/png": "[encoded data removed]",
      "text/plain": [
       "<Figure size 720x360 with 1 Axes>"
      ]
     },
     "metadata": {
      "needs_background": "light"
     },
     "output_type": "display_data"
    },
    {
     "name": "stdout",
     "output_type": "stream",
     "text": [
      "Category 1:ህብረተሰብ , Category 2:ልብ ወለድ , Category 3:ማራኪ አንቀፅ , Category 4:ርዕስ አንቀፅ , Category 5:ባህል , Category 6:ነፃ አስተያየት , Category 7:ንግድና ኢኮኖሚ , Category 8:አግራሞት , Category 9:ከአለም ዙሪያ , Category 10:ኪነ-ጥበባዊ ዜና , Category 11:ዜና , Category 12:የሰሞኑ አጀንዳ , Category 13:የግጥም ጥግ , Category 14:ጤና , Category 15:ጥበብ , Category 16:ፖለቲካ በፈገግታ , \n"
     ]
    }
   ],
   "source": [
    "\n",
    "plt.figure(figsize=(10,5))\n",
    "\n",
    "keys = title_pages.keys()\n",
    "values = title_pages.values()\n",
    "plt.bar(keys ,values)\n",
    "\n",
    "plt.title(\"No of articls for each category\")\n",
    "plt.xlabel(\"Category\")\n",
    "plt.ylabel(\"Number of articles\")\n",
    "plt.show()\n",
    "print (category_label)"
   ]
  }
 ],
 "metadata": {
  "kernelspec": {
   "display_name": "Python 3.8.5 ('base')",
   "language": "python",
   "name": "python3"
  },
  "language_info": {
   "codemirror_mode": {
    "name": "ipython",
    "version": 3
   },
   "file_extension": ".py",
   "mimetype": "text/x-python",
   "name": "python",
   "nbconvert_exporter": "python",
   "pygments_lexer": "ipython3",
   "version": "3.8.5"
  },
  "orig_nbformat": 4,
  "vscode": {
   "interpreter": {
    "hash": "7c710e3be127ef2ad95d6db194e818d2faa49e132c3e6f7b047e635d15e31d42"
   }
  }
 },
 "nbformat": 4,
 "nbformat_minor": 2
}
